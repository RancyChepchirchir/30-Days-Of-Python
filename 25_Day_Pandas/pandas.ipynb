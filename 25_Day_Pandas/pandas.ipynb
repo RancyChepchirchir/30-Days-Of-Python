{
 "cells": [
  {
   "cell_type": "code",
   "execution_count": 1,
   "metadata": {},
   "outputs": [],
   "source": [
    "import pandas as pd # importing pandas as pd\n",
    "import numpy  as np # importing numpy as np"
   ]
  },
  {
   "cell_type": "code",
   "execution_count": 2,
   "metadata": {},
   "outputs": [
    {
     "name": "stdout",
     "output_type": "stream",
     "text": [
      "0    1\n",
      "1    2\n",
      "2    3\n",
      "3    4\n",
      "4    5\n",
      "dtype: int64\n"
     ]
    }
   ],
   "source": [
    "### Creating Pandas Series with Default Index\n",
    "nums = [1, 2, 3, 4,5]\n",
    "s = pd.Series(nums)\n",
    "print(s)"
   ]
  },
  {
   "cell_type": "code",
   "execution_count": 3,
   "metadata": {},
   "outputs": [
    {
     "name": "stdout",
     "output_type": "stream",
     "text": [
      "1    1\n",
      "2    2\n",
      "3    3\n",
      "4    4\n",
      "5    5\n",
      "dtype: int64\n"
     ]
    }
   ],
   "source": [
    "### Creating  Pandas Series with custom index\n",
    "nums = [1, 2, 3, 4, 5]\n",
    "s = pd.Series(nums, index=[1, 2, 3, 4, 5])\n",
    "print(s)"
   ]
  },
  {
   "cell_type": "code",
   "execution_count": 4,
   "metadata": {},
   "outputs": [
    {
     "name": "stdout",
     "output_type": "stream",
     "text": [
      "1    Orange\n",
      "2    Banana\n",
      "3    Mangao\n",
      "dtype: object\n"
     ]
    }
   ],
   "source": [
    "fruits = ['Orange','Banana','Mangao']\n",
    "fruits = pd.Series(fruits, index=[1, 2, 3])\n",
    "print(fruits)"
   ]
  },
  {
   "cell_type": "code",
   "execution_count": 5,
   "metadata": {},
   "outputs": [
    {
     "name": "stdout",
     "output_type": "stream",
     "text": [
      "name       Asabeneh\n",
      "country     Finland\n",
      "city       Helsinki\n",
      "dtype: object\n"
     ]
    }
   ],
   "source": [
    "### Creating Pandas Series from a Dictionary\n",
    "dct = {'name':'Asabeneh','country':'Finland','city':'Helsinki'}\n",
    "s = pd.Series(dct)\n",
    "print(s)"
   ]
  },
  {
   "cell_type": "code",
   "execution_count": 6,
   "metadata": {},
   "outputs": [
    {
     "name": "stdout",
     "output_type": "stream",
     "text": [
      "1    10\n",
      "2    10\n",
      "3    10\n",
      "dtype: int64\n"
     ]
    }
   ],
   "source": [
    "### Creating a Constant Pandas Series\n",
    "s = pd.Series(10, index = [1, 2,3])\n",
    "print(s)"
   ]
  },
  {
   "cell_type": "code",
   "execution_count": 7,
   "metadata": {},
   "outputs": [
    {
     "name": "stdout",
     "output_type": "stream",
     "text": [
      "0     5.000000\n",
      "1     6.666667\n",
      "2     8.333333\n",
      "3    10.000000\n",
      "4    11.666667\n",
      "5    13.333333\n",
      "6    15.000000\n",
      "7    16.666667\n",
      "8    18.333333\n",
      "9    20.000000\n",
      "dtype: float64\n"
     ]
    }
   ],
   "source": [
    "### Creating a  Pandas Series Using Linspace\n",
    "s = pd.Series(np.linspace(5, 20, 10)) # linspace(starting, end, items)\n",
    "print(s)"
   ]
  },
  {
   "cell_type": "code",
   "execution_count": 8,
   "metadata": {},
   "outputs": [
    {
     "name": "stdout",
     "output_type": "stream",
     "text": [
      "      Names  Country       City\n",
      "0  Asabeneh  Finland    Helsink\n",
      "1     David       UK     London\n",
      "2      John   Sweden  Stockholm\n"
     ]
    }
   ],
   "source": [
    "## DataFrames\n",
    "#Pandas data frames can be created in different ways.\n",
    "### Creating DataFrames from List of Lists\n",
    "data = [\n",
    "    ['Asabeneh', 'Finland', 'Helsink'], \n",
    "    ['David', 'UK', 'London'],\n",
    "    ['John', 'Sweden', 'Stockholm']\n",
    "]\n",
    "df = pd.DataFrame(data, columns=['Names','Country','City'])\n",
    "print(df)"
   ]
  },
  {
   "cell_type": "code",
   "execution_count": 9,
   "metadata": {},
   "outputs": [
    {
     "name": "stdout",
     "output_type": "stream",
     "text": [
      "       Name  Country       City\n",
      "0  Asabeneh  Finland    Helsiki\n",
      "1     David       UK     London\n",
      "2      John   Sweden  Stockholm\n"
     ]
    }
   ],
   "source": [
    "### Creating DataFrame Using Dictionary\n",
    "data = {'Name': ['Asabeneh', 'David', 'John'], 'Country':[\n",
    "    'Finland', 'UK', 'Sweden'], 'City': ['Helsiki', 'London', 'Stockholm']}\n",
    "df = pd.DataFrame(data)\n",
    "print(df)"
   ]
  },
  {
   "cell_type": "code",
   "execution_count": 10,
   "metadata": {},
   "outputs": [
    {
     "name": "stdout",
     "output_type": "stream",
     "text": [
      "       Name  Country       City\n",
      "0  Asabeneh  Finland   Helsinki\n",
      "1     David       UK     London\n",
      "2      John   Sweden  Stockholm\n"
     ]
    }
   ],
   "source": [
    "### Creating DataFrames from a List of Dictionaries\n",
    "data = [\n",
    "    {'Name': 'Asabeneh', 'Country': 'Finland', 'City': 'Helsinki'},\n",
    "    {'Name': 'David', 'Country': 'UK', 'City': 'London'},\n",
    "    {'Name': 'John', 'Country': 'Sweden', 'City': 'Stockholm'}]\n",
    "df = pd.DataFrame(data)\n",
    "print(df)"
   ]
  },
  {
   "cell_type": "code",
   "execution_count": 14,
   "metadata": {},
   "outputs": [
    {
     "name": "stdout",
     "output_type": "stream",
     "text": [
      "      Gender     Height      Weight\n",
      "0       Male  73.847017  241.893563\n",
      "1       Male  68.781904  162.310473\n",
      "2       Male  74.110105  212.740856\n",
      "3       Male  71.730978  220.042470\n",
      "4       Male  69.881796  206.349801\n",
      "...      ...        ...         ...\n",
      "9995  Female  66.172652  136.777454\n",
      "9996  Female  67.067155  170.867906\n",
      "9997  Female  63.867992  128.475319\n",
      "9998  Female  69.034243  163.852461\n",
      "9999  Female  61.944246  113.649103\n",
      "\n",
      "[10000 rows x 3 columns]\n"
     ]
    }
   ],
   "source": [
    "## Reading CSV File Using Pandas\n",
    "# To download the csv file, needed in this example, console/command line is enough:\n",
    "df = pd.read_csv('/home/rancy/Documents/1000DaysOfCode/1.100Days/30-Days-Of-Python/data/weight-height.csv')\n",
    "print(df)"
   ]
  },
  {
   "cell_type": "code",
   "execution_count": 15,
   "metadata": {},
   "outputs": [
    {
     "name": "stdout",
     "output_type": "stream",
     "text": [
      "  Gender     Height      Weight\n",
      "0   Male  73.847017  241.893563\n",
      "1   Male  68.781904  162.310473\n",
      "2   Male  74.110105  212.740856\n",
      "3   Male  71.730978  220.042470\n",
      "4   Male  69.881796  206.349801\n"
     ]
    }
   ],
   "source": [
    "### Data Exploration\n",
    "#Let's read only the first 5 rows using head()\n",
    "print(df.head()) # give five rows we can increase the number of rows by passing argument to the head() method"
   ]
  },
  {
   "cell_type": "code",
   "execution_count": 16,
   "metadata": {},
   "outputs": [
    {
     "name": "stdout",
     "output_type": "stream",
     "text": [
      "(10000, 3)\n"
     ]
    }
   ],
   "source": [
    "print(df.shape) # as you can see 10000 rows and three columns"
   ]
  },
  {
   "cell_type": "code",
   "execution_count": 17,
   "metadata": {},
   "outputs": [
    {
     "name": "stdout",
     "output_type": "stream",
     "text": [
      "Index(['Gender', 'Height', 'Weight'], dtype='object')\n"
     ]
    }
   ],
   "source": [
    "#Let's get all the columns using columns.\n",
    "print(df.columns)"
   ]
  },
  {
   "cell_type": "code",
   "execution_count": 18,
   "metadata": {},
   "outputs": [
    {
     "name": "stdout",
     "output_type": "stream",
     "text": [
      "      Gender     Height      Weight\n",
      "9995  Female  66.172652  136.777454\n",
      "9996  Female  67.067155  170.867906\n",
      "9997  Female  63.867992  128.475319\n",
      "9998  Female  69.034243  163.852461\n",
      "9999  Female  61.944246  113.649103\n"
     ]
    }
   ],
   "source": [
    "#Let's read only the last 5 rows using tail()\n",
    "print(df.tail()) # tails give the last five rows, we can increase the rows by passing argument to tail method"
   ]
  },
  {
   "cell_type": "code",
   "execution_count": 19,
   "metadata": {},
   "outputs": [
    {
     "name": "stdout",
     "output_type": "stream",
     "text": [
      "0       73.847017\n",
      "1       68.781904\n",
      "2       74.110105\n",
      "3       71.730978\n",
      "4       69.881796\n",
      "          ...    \n",
      "9995    66.172652\n",
      "9996    67.067155\n",
      "9997    63.867992\n",
      "9998    69.034243\n",
      "9999    61.944246\n",
      "Name: Height, Length: 10000, dtype: float64\n"
     ]
    }
   ],
   "source": [
    "#Now, lets get a specific column using the column key\n",
    "heights = df['Height'] # this is now a series\n",
    "print(heights)"
   ]
  },
  {
   "cell_type": "code",
   "execution_count": 20,
   "metadata": {},
   "outputs": [
    {
     "name": "stdout",
     "output_type": "stream",
     "text": [
      "0       241.893563\n",
      "1       162.310473\n",
      "2       212.740856\n",
      "3       220.042470\n",
      "4       206.349801\n",
      "           ...    \n",
      "9995    136.777454\n",
      "9996    170.867906\n",
      "9997    128.475319\n",
      "9998    163.852461\n",
      "9999    113.649103\n",
      "Name: Weight, Length: 10000, dtype: float64\n"
     ]
    }
   ],
   "source": [
    "weights = df['Weight'] # this is now a series\n",
    "print(weights)"
   ]
  },
  {
   "cell_type": "code",
   "execution_count": 21,
   "metadata": {},
   "outputs": [
    {
     "name": "stdout",
     "output_type": "stream",
     "text": [
      "True\n"
     ]
    }
   ],
   "source": [
    "print(len(heights) == len(weights))"
   ]
  },
  {
   "cell_type": "code",
   "execution_count": 24,
   "metadata": {},
   "outputs": [
    {
     "name": "stdout",
     "output_type": "stream",
     "text": [
      "count    10000.000000\n",
      "mean        66.367560\n",
      "std          3.847528\n",
      "min         54.263133\n",
      "25%         63.505620\n",
      "50%         66.318070\n",
      "75%         69.174262\n",
      "max         78.998742\n",
      "Name: Height, dtype: float64\n"
     ]
    }
   ],
   "source": [
    "print(heights.describe()) # give statisical information about height data"
   ]
  },
  {
   "cell_type": "code",
   "execution_count": 25,
   "metadata": {},
   "outputs": [
    {
     "name": "stdout",
     "output_type": "stream",
     "text": [
      "count    10000.000000\n",
      "mean       161.440357\n",
      "std         32.108439\n",
      "min         64.700127\n",
      "25%        135.818051\n",
      "50%        161.212928\n",
      "75%        187.169525\n",
      "max        269.989699\n",
      "Name: Weight, dtype: float64\n"
     ]
    }
   ],
   "source": [
    "print(weights.describe())"
   ]
  },
  {
   "cell_type": "code",
   "execution_count": 26,
   "metadata": {},
   "outputs": [
    {
     "name": "stdout",
     "output_type": "stream",
     "text": [
      "             Height        Weight\n",
      "count  10000.000000  10000.000000\n",
      "mean      66.367560    161.440357\n",
      "std        3.847528     32.108439\n",
      "min       54.263133     64.700127\n",
      "25%       63.505620    135.818051\n",
      "50%       66.318070    161.212928\n",
      "75%       69.174262    187.169525\n",
      "max       78.998742    269.989699\n"
     ]
    }
   ],
   "source": [
    "print(df.describe())  # describe can also give statistical information from a dataFrame"
   ]
  },
  {
   "cell_type": "code",
   "execution_count": 27,
   "metadata": {},
   "outputs": [
    {
     "name": "stdout",
     "output_type": "stream",
     "text": [
      "       Name  Country       City\n",
      "0  Asabeneh  Finland   Helsinki\n",
      "1     David       UK     London\n",
      "2      John   Sweden  Stockholm\n"
     ]
    }
   ],
   "source": [
    "### Creating a DataFrame\n",
    "# As always, first we import the necessary packages. Now, lets import pandas and numpy, two best friends ever.\n",
    "data = [\n",
    "    {\"Name\": \"Asabeneh\", \"Country\":\"Finland\",\"City\":\"Helsinki\"},\n",
    "    {\"Name\": \"David\", \"Country\":\"UK\",\"City\":\"London\"},\n",
    "    {\"Name\": \"John\", \"Country\":\"Sweden\",\"City\":\"Stockholm\"}]\n",
    "df = pd.DataFrame(data)\n",
    "print(df)"
   ]
  },
  {
   "cell_type": "code",
   "execution_count": 28,
   "metadata": {},
   "outputs": [
    {
     "data": {
      "text/html": [
       "<div>\n",
       "<style scoped>\n",
       "    .dataframe tbody tr th:only-of-type {\n",
       "        vertical-align: middle;\n",
       "    }\n",
       "\n",
       "    .dataframe tbody tr th {\n",
       "        vertical-align: top;\n",
       "    }\n",
       "\n",
       "    .dataframe thead th {\n",
       "        text-align: right;\n",
       "    }\n",
       "</style>\n",
       "<table border=\"1\" class=\"dataframe\">\n",
       "  <thead>\n",
       "    <tr style=\"text-align: right;\">\n",
       "      <th></th>\n",
       "      <th>Name</th>\n",
       "      <th>Country</th>\n",
       "      <th>City</th>\n",
       "      <th>Weight</th>\n",
       "    </tr>\n",
       "  </thead>\n",
       "  <tbody>\n",
       "    <tr>\n",
       "      <th>0</th>\n",
       "      <td>Asabeneh</td>\n",
       "      <td>Finland</td>\n",
       "      <td>Helsinki</td>\n",
       "      <td>74</td>\n",
       "    </tr>\n",
       "    <tr>\n",
       "      <th>1</th>\n",
       "      <td>David</td>\n",
       "      <td>UK</td>\n",
       "      <td>London</td>\n",
       "      <td>78</td>\n",
       "    </tr>\n",
       "    <tr>\n",
       "      <th>2</th>\n",
       "      <td>John</td>\n",
       "      <td>Sweden</td>\n",
       "      <td>Stockholm</td>\n",
       "      <td>69</td>\n",
       "    </tr>\n",
       "  </tbody>\n",
       "</table>\n",
       "</div>"
      ],
      "text/plain": [
       "       Name  Country       City  Weight\n",
       "0  Asabeneh  Finland   Helsinki      74\n",
       "1     David       UK     London      78\n",
       "2      John   Sweden  Stockholm      69"
      ]
     },
     "execution_count": 28,
     "metadata": {},
     "output_type": "execute_result"
    }
   ],
   "source": [
    "#Adding a column to a DataFrame is like adding a key to a dictionary.\n",
    "#First let's use the previous example to create a DataFrame. After we create the DataFrame, we will start modifying the columns and column values.\n",
    "### Adding a New Column\n",
    "#Let's add a weight column in the DataFrame\n",
    "weights = [74, 78, 69]\n",
    "df['Weight'] = weights\n",
    "df"
   ]
  },
  {
   "cell_type": "code",
   "execution_count": 29,
   "metadata": {},
   "outputs": [
    {
     "name": "stdout",
     "output_type": "stream",
     "text": [
      "       Name  Country       City  Weight  Height\n",
      "0  Asabeneh  Finland   Helsinki      74     173\n",
      "1     David       UK     London      78     175\n",
      "2      John   Sweden  Stockholm      69     169\n"
     ]
    }
   ],
   "source": [
    "#Let's add a height column into the DataFrame aswell\n",
    "heights = [173, 175, 169]\n",
    "df['Height'] = heights\n",
    "print(df)"
   ]
  },
  {
   "cell_type": "code",
   "execution_count": 30,
   "metadata": {},
   "outputs": [
    {
     "data": {
      "text/html": [
       "<div>\n",
       "<style scoped>\n",
       "    .dataframe tbody tr th:only-of-type {\n",
       "        vertical-align: middle;\n",
       "    }\n",
       "\n",
       "    .dataframe tbody tr th {\n",
       "        vertical-align: top;\n",
       "    }\n",
       "\n",
       "    .dataframe thead th {\n",
       "        text-align: right;\n",
       "    }\n",
       "</style>\n",
       "<table border=\"1\" class=\"dataframe\">\n",
       "  <thead>\n",
       "    <tr style=\"text-align: right;\">\n",
       "      <th></th>\n",
       "      <th>Name</th>\n",
       "      <th>Country</th>\n",
       "      <th>City</th>\n",
       "      <th>Weight</th>\n",
       "      <th>Height</th>\n",
       "    </tr>\n",
       "  </thead>\n",
       "  <tbody>\n",
       "    <tr>\n",
       "      <th>0</th>\n",
       "      <td>Asabeneh</td>\n",
       "      <td>Finland</td>\n",
       "      <td>Helsinki</td>\n",
       "      <td>74</td>\n",
       "      <td>1.73</td>\n",
       "    </tr>\n",
       "    <tr>\n",
       "      <th>1</th>\n",
       "      <td>David</td>\n",
       "      <td>UK</td>\n",
       "      <td>London</td>\n",
       "      <td>78</td>\n",
       "      <td>1.75</td>\n",
       "    </tr>\n",
       "    <tr>\n",
       "      <th>2</th>\n",
       "      <td>John</td>\n",
       "      <td>Sweden</td>\n",
       "      <td>Stockholm</td>\n",
       "      <td>69</td>\n",
       "      <td>1.69</td>\n",
       "    </tr>\n",
       "  </tbody>\n",
       "</table>\n",
       "</div>"
      ],
      "text/plain": [
       "       Name  Country       City  Weight  Height\n",
       "0  Asabeneh  Finland   Helsinki      74    1.73\n",
       "1     David       UK     London      78    1.75\n",
       "2      John   Sweden  Stockholm      69    1.69"
      ]
     },
     "execution_count": 30,
     "metadata": {},
     "output_type": "execute_result"
    }
   ],
   "source": [
    "### Modifying column values\n",
    "df['Height'] = df['Height'] * 0.01\n",
    "df"
   ]
  },
  {
   "cell_type": "code",
   "execution_count": 31,
   "metadata": {},
   "outputs": [],
   "source": [
    "# Using functions makes our code clean, but you can calculate the bmi without one\n",
    "def calculate_bmi ():\n",
    "    weights = df['Weight']\n",
    "    heights = df['Height']\n",
    "    bmi = []\n",
    "    for w,h in zip(weights, heights):\n",
    "        b = w/(h*h)\n",
    "        bmi.append(b)\n",
    "    return bmi\n",
    "bmi = calculate_bmi()"
   ]
  },
  {
   "cell_type": "code",
   "execution_count": 32,
   "metadata": {},
   "outputs": [
    {
     "data": {
      "text/html": [
       "<div>\n",
       "<style scoped>\n",
       "    .dataframe tbody tr th:only-of-type {\n",
       "        vertical-align: middle;\n",
       "    }\n",
       "\n",
       "    .dataframe tbody tr th {\n",
       "        vertical-align: top;\n",
       "    }\n",
       "\n",
       "    .dataframe thead th {\n",
       "        text-align: right;\n",
       "    }\n",
       "</style>\n",
       "<table border=\"1\" class=\"dataframe\">\n",
       "  <thead>\n",
       "    <tr style=\"text-align: right;\">\n",
       "      <th></th>\n",
       "      <th>Name</th>\n",
       "      <th>Country</th>\n",
       "      <th>City</th>\n",
       "      <th>Weight</th>\n",
       "      <th>Height</th>\n",
       "      <th>BMI</th>\n",
       "    </tr>\n",
       "  </thead>\n",
       "  <tbody>\n",
       "    <tr>\n",
       "      <th>0</th>\n",
       "      <td>Asabeneh</td>\n",
       "      <td>Finland</td>\n",
       "      <td>Helsinki</td>\n",
       "      <td>74</td>\n",
       "      <td>1.73</td>\n",
       "      <td>24.725183</td>\n",
       "    </tr>\n",
       "    <tr>\n",
       "      <th>1</th>\n",
       "      <td>David</td>\n",
       "      <td>UK</td>\n",
       "      <td>London</td>\n",
       "      <td>78</td>\n",
       "      <td>1.75</td>\n",
       "      <td>25.469388</td>\n",
       "    </tr>\n",
       "    <tr>\n",
       "      <th>2</th>\n",
       "      <td>John</td>\n",
       "      <td>Sweden</td>\n",
       "      <td>Stockholm</td>\n",
       "      <td>69</td>\n",
       "      <td>1.69</td>\n",
       "      <td>24.158818</td>\n",
       "    </tr>\n",
       "  </tbody>\n",
       "</table>\n",
       "</div>"
      ],
      "text/plain": [
       "       Name  Country       City  Weight  Height        BMI\n",
       "0  Asabeneh  Finland   Helsinki      74    1.73  24.725183\n",
       "1     David       UK     London      78    1.75  25.469388\n",
       "2      John   Sweden  Stockholm      69    1.69  24.158818"
      ]
     },
     "execution_count": 32,
     "metadata": {},
     "output_type": "execute_result"
    }
   ],
   "source": [
    "df['BMI'] = bmi\n",
    "df"
   ]
  },
  {
   "cell_type": "code",
   "execution_count": 33,
   "metadata": {},
   "outputs": [
    {
     "name": "stdout",
     "output_type": "stream",
     "text": [
      "       Name  Country       City  Weight  Height   BMI\n",
      "0  Asabeneh  Finland   Helsinki      74    1.73  24.7\n",
      "1     David       UK     London      78    1.75  25.5\n",
      "2      John   Sweden  Stockholm      69    1.69  24.2\n"
     ]
    }
   ],
   "source": [
    "#The BMI column values of the DataFrame are float with many significant digits after decimal. Let's change it to one significant digit after point.\n",
    "df['BMI'] = round(df['BMI'], 1)\n",
    "print(df)"
   ]
  },
  {
   "cell_type": "code",
   "execution_count": 34,
   "metadata": {},
   "outputs": [
    {
     "data": {
      "text/html": [
       "<div>\n",
       "<style scoped>\n",
       "    .dataframe tbody tr th:only-of-type {\n",
       "        vertical-align: middle;\n",
       "    }\n",
       "\n",
       "    .dataframe tbody tr th {\n",
       "        vertical-align: top;\n",
       "    }\n",
       "\n",
       "    .dataframe thead th {\n",
       "        text-align: right;\n",
       "    }\n",
       "</style>\n",
       "<table border=\"1\" class=\"dataframe\">\n",
       "  <thead>\n",
       "    <tr style=\"text-align: right;\">\n",
       "      <th></th>\n",
       "      <th>Name</th>\n",
       "      <th>Country</th>\n",
       "      <th>City</th>\n",
       "      <th>Weight</th>\n",
       "      <th>Height</th>\n",
       "      <th>BMI</th>\n",
       "      <th>Birth Year</th>\n",
       "      <th>Current Year</th>\n",
       "    </tr>\n",
       "  </thead>\n",
       "  <tbody>\n",
       "    <tr>\n",
       "      <th>0</th>\n",
       "      <td>Asabeneh</td>\n",
       "      <td>Finland</td>\n",
       "      <td>Helsinki</td>\n",
       "      <td>74</td>\n",
       "      <td>1.73</td>\n",
       "      <td>24.7</td>\n",
       "      <td>1769</td>\n",
       "      <td>2020</td>\n",
       "    </tr>\n",
       "    <tr>\n",
       "      <th>1</th>\n",
       "      <td>David</td>\n",
       "      <td>UK</td>\n",
       "      <td>London</td>\n",
       "      <td>78</td>\n",
       "      <td>1.75</td>\n",
       "      <td>25.5</td>\n",
       "      <td>1985</td>\n",
       "      <td>2020</td>\n",
       "    </tr>\n",
       "    <tr>\n",
       "      <th>2</th>\n",
       "      <td>John</td>\n",
       "      <td>Sweden</td>\n",
       "      <td>Stockholm</td>\n",
       "      <td>69</td>\n",
       "      <td>1.69</td>\n",
       "      <td>24.2</td>\n",
       "      <td>1990</td>\n",
       "      <td>2020</td>\n",
       "    </tr>\n",
       "  </tbody>\n",
       "</table>\n",
       "</div>"
      ],
      "text/plain": [
       "       Name  Country       City  Weight  Height   BMI Birth Year  Current Year\n",
       "0  Asabeneh  Finland   Helsinki      74    1.73  24.7       1769          2020\n",
       "1     David       UK     London      78    1.75  25.5       1985          2020\n",
       "2      John   Sweden  Stockholm      69    1.69  24.2       1990          2020"
      ]
     },
     "execution_count": 34,
     "metadata": {},
     "output_type": "execute_result"
    }
   ],
   "source": [
    "birth_year = ['1769', '1985', '1990']\n",
    "current_year = pd.Series(2020, index=[0, 1,2])\n",
    "df['Birth Year'] = birth_year\n",
    "df['Current Year'] = current_year\n",
    "df"
   ]
  },
  {
   "cell_type": "code",
   "execution_count": 35,
   "metadata": {},
   "outputs": [
    {
     "name": "stdout",
     "output_type": "stream",
     "text": [
      "int64\n"
     ]
    }
   ],
   "source": [
    "## Checking data types of Column values\n",
    "print(df.Weight.dtype)"
   ]
  },
  {
   "cell_type": "code",
   "execution_count": 36,
   "metadata": {},
   "outputs": [
    {
     "name": "stdout",
     "output_type": "stream",
     "text": [
      "int64\n"
     ]
    }
   ],
   "source": [
    "df['Birth Year'].dtype # it gives string object , we should change this to number\n",
    "df['Birth Year'] = df['Birth Year'].astype('int')\n",
    "print(df['Birth Year'].dtype) # let's check the data type now"
   ]
  },
  {
   "cell_type": "code",
   "execution_count": 37,
   "metadata": {},
   "outputs": [
    {
     "data": {
      "text/plain": [
       "dtype('int64')"
      ]
     },
     "execution_count": 37,
     "metadata": {},
     "output_type": "execute_result"
    }
   ],
   "source": [
    "#Now same for the current year:\n",
    "df['Current Year'] = df['Current Year'].astype('int')\n",
    "df['Current Year'].dtype"
   ]
  },
  {
   "cell_type": "code",
   "execution_count": 38,
   "metadata": {},
   "outputs": [
    {
     "data": {
      "text/plain": [
       "0    251\n",
       "1     35\n",
       "2     30\n",
       "dtype: int64"
      ]
     },
     "execution_count": 38,
     "metadata": {},
     "output_type": "execute_result"
    }
   ],
   "source": [
    "# Now, the column values of birth year and current year are integers. We can calculate the age.\n",
    "ages = df['Current Year'] - df['Birth Year']\n",
    "ages"
   ]
  },
  {
   "cell_type": "code",
   "execution_count": 39,
   "metadata": {},
   "outputs": [
    {
     "name": "stdout",
     "output_type": "stream",
     "text": [
      "       Name  Country       City  Weight  Height   BMI  Birth Year  \\\n",
      "0  Asabeneh  Finland   Helsinki      74    1.73  24.7        1769   \n",
      "1     David       UK     London      78    1.75  25.5        1985   \n",
      "2      John   Sweden  Stockholm      69    1.69  24.2        1990   \n",
      "\n",
      "   Current Year  Ages  \n",
      "0          2020   251  \n",
      "1          2020    35  \n",
      "2          2020    30  \n"
     ]
    }
   ],
   "source": [
    "df['Ages'] = ages\n",
    "print(df)"
   ]
  },
  {
   "cell_type": "code",
   "execution_count": 40,
   "metadata": {},
   "outputs": [
    {
     "name": "stdout",
     "output_type": "stream",
     "text": [
      "Mean:  32.5\n"
     ]
    }
   ],
   "source": [
    "mean = (35 + 30)/ 2\n",
    "print('Mean: ', mean)\t#it is good to add some description to the output, so we know what is what"
   ]
  },
  {
   "cell_type": "code",
   "execution_count": 42,
   "metadata": {},
   "outputs": [
    {
     "name": "stdout",
     "output_type": "stream",
     "text": [
      "       Name  Country      City  Weight  Height   BMI  Birth Year  \\\n",
      "0  Asabeneh  Finland  Helsinki      74    1.73  24.7        1769   \n",
      "\n",
      "   Current Year  Ages  \n",
      "0          2020   251  \n"
     ]
    }
   ],
   "source": [
    "### Boolean Indexing\n",
    "print(df[df['Ages'] > 120])"
   ]
  },
  {
   "cell_type": "code",
   "execution_count": 43,
   "metadata": {},
   "outputs": [
    {
     "name": "stdout",
     "output_type": "stream",
     "text": [
      "    Name Country       City  Weight  Height   BMI  Birth Year  Current Year  \\\n",
      "1  David      UK     London      78    1.75  25.5        1985          2020   \n",
      "2   John  Sweden  Stockholm      69    1.69  24.2        1990          2020   \n",
      "\n",
      "   Ages  \n",
      "1    35  \n",
      "2    30  \n"
     ]
    }
   ],
   "source": [
    "print(df[df['Ages'] < 120])"
   ]
  },
  {
   "cell_type": "code",
   "execution_count": 44,
   "metadata": {},
   "outputs": [
    {
     "name": "stdout",
     "output_type": "stream",
     "text": [
      "             id                                              title  \\\n",
      "0      12224879                          Interactive Dynamic Video   \n",
      "1      11964716  Florida DJs May Face Felony for April Fools' W...   \n",
      "2      11919867       Technology ventures: From Idea to Enterprise   \n",
      "3      10301696  Note by Note: The Making of Steinway L1037 (2007)   \n",
      "4      10482257  Title II kills investment? Comcast and other I...   \n",
      "...         ...                                                ...   \n",
      "20094  12379592  How Purism Avoids Intels Active Management Tec...   \n",
      "20095  10339284          YC Application Translated and Broken Down   \n",
      "20096  10824382  Microkernels are slow and Elvis didn't do no d...   \n",
      "20097  10739875                      How Product Hunt really works   \n",
      "20098  11680777  RoboBrowser: Your friendly neighborhood web sc...   \n",
      "\n",
      "                                                     url  num_points  \\\n",
      "0                http://www.interactivedynamicvideo.com/         386   \n",
      "1      http://www.thewire.com/entertainment/2013/04/f...           2   \n",
      "2      https://www.amazon.com/Technology-Ventures-Ent...           3   \n",
      "3      http://www.nytimes.com/2007/11/07/movies/07ste...           8   \n",
      "4      http://arstechnica.com/business/2015/10/comcas...          53   \n",
      "...                                                  ...         ...   \n",
      "20094  https://puri.sm/philosophy/how-purism-avoids-i...          10   \n",
      "20095  https://medium.com/@zreitano/the-yc-applicatio...           4   \n",
      "20096  http://blog.darknedgy.net/technology/2016/01/0...         169   \n",
      "20097  https://medium.com/@benjiwheeler/how-product-h...         695   \n",
      "20098              https://github.com/jmcarp/robobrowser         182   \n",
      "\n",
      "       num_comments         author        created_at  \n",
      "0                52       ne0phyte    8/4/2016 11:52  \n",
      "1                 1       vezycash   6/23/2016 22:20  \n",
      "2                 1        hswarna    6/17/2016 0:01  \n",
      "3                 2     walterbell    9/30/2015 4:12  \n",
      "4                22         Deinos   10/31/2015 9:48  \n",
      "...             ...            ...               ...  \n",
      "20094             6  AdmiralAsshat    8/29/2016 2:22  \n",
      "20095             1       zreitano   10/6/2015 14:57  \n",
      "20096           132    vezzy-fnord     1/2/2016 0:49  \n",
      "20097           222          brw12  12/15/2015 19:32  \n",
      "20098            58      pmoriarty    5/12/2016 1:43  \n",
      "\n",
      "[20099 rows x 7 columns]\n"
     ]
    }
   ],
   "source": [
    "#1. Read the hacker_news.csv file from data directory \n",
    "df = pd.read_csv('/home/rancy/Documents/1000DaysOfCode/1.100Days/30-Days-Of-Python/data/hacker_news.csv')\n",
    "print(df)"
   ]
  },
  {
   "cell_type": "code",
   "execution_count": 47,
   "metadata": {},
   "outputs": [
    {
     "name": "stdout",
     "output_type": "stream",
     "text": [
      "         id                                              title  \\\n",
      "0  12224879                          Interactive Dynamic Video   \n",
      "1  11964716  Florida DJs May Face Felony for April Fools' W...   \n",
      "2  11919867       Technology ventures: From Idea to Enterprise   \n",
      "3  10301696  Note by Note: The Making of Steinway L1037 (2007)   \n",
      "4  10482257  Title II kills investment? Comcast and other I...   \n",
      "\n",
      "                                                 url  num_points  \\\n",
      "0            http://www.interactivedynamicvideo.com/         386   \n",
      "1  http://www.thewire.com/entertainment/2013/04/f...           2   \n",
      "2  https://www.amazon.com/Technology-Ventures-Ent...           3   \n",
      "3  http://www.nytimes.com/2007/11/07/movies/07ste...           8   \n",
      "4  http://arstechnica.com/business/2015/10/comcas...          53   \n",
      "\n",
      "   num_comments      author       created_at  \n",
      "0            52    ne0phyte   8/4/2016 11:52  \n",
      "1             1    vezycash  6/23/2016 22:20  \n",
      "2             1     hswarna   6/17/2016 0:01  \n",
      "3             2  walterbell   9/30/2015 4:12  \n",
      "4            22      Deinos  10/31/2015 9:48  \n"
     ]
    }
   ],
   "source": [
    "#2. Get the first five rows\n",
    "print(df.head())"
   ]
  },
  {
   "cell_type": "code",
   "execution_count": 48,
   "metadata": {},
   "outputs": [
    {
     "name": "stdout",
     "output_type": "stream",
     "text": [
      "             id                                              title  \\\n",
      "20094  12379592  How Purism Avoids Intels Active Management Tec...   \n",
      "20095  10339284          YC Application Translated and Broken Down   \n",
      "20096  10824382  Microkernels are slow and Elvis didn't do no d...   \n",
      "20097  10739875                      How Product Hunt really works   \n",
      "20098  11680777  RoboBrowser: Your friendly neighborhood web sc...   \n",
      "\n",
      "                                                     url  num_points  \\\n",
      "20094  https://puri.sm/philosophy/how-purism-avoids-i...          10   \n",
      "20095  https://medium.com/@zreitano/the-yc-applicatio...           4   \n",
      "20096  http://blog.darknedgy.net/technology/2016/01/0...         169   \n",
      "20097  https://medium.com/@benjiwheeler/how-product-h...         695   \n",
      "20098              https://github.com/jmcarp/robobrowser         182   \n",
      "\n",
      "       num_comments         author        created_at  \n",
      "20094             6  AdmiralAsshat    8/29/2016 2:22  \n",
      "20095             1       zreitano   10/6/2015 14:57  \n",
      "20096           132    vezzy-fnord     1/2/2016 0:49  \n",
      "20097           222          brw12  12/15/2015 19:32  \n",
      "20098            58      pmoriarty    5/12/2016 1:43  \n"
     ]
    }
   ],
   "source": [
    "#3. Get the last five rows\n",
    "print(df.tail())"
   ]
  },
  {
   "cell_type": "code",
   "execution_count": 57,
   "metadata": {},
   "outputs": [
    {
     "name": "stdout",
     "output_type": "stream",
     "text": [
      "0                                Interactive Dynamic Video\n",
      "1        Florida DJs May Face Felony for April Fools' W...\n",
      "2             Technology ventures: From Idea to Enterprise\n",
      "3        Note by Note: The Making of Steinway L1037 (2007)\n",
      "4        Title II kills investment? Comcast and other I...\n",
      "                               ...                        \n",
      "20094    How Purism Avoids Intels Active Management Tec...\n",
      "20095            YC Application Translated and Broken Down\n",
      "20096    Microkernels are slow and Elvis didn't do no d...\n",
      "20097                        How Product Hunt really works\n",
      "20098    RoboBrowser: Your friendly neighborhood web sc...\n",
      "Name: title, Length: 20099, dtype: object\n"
     ]
    }
   ],
   "source": [
    "#4. Get the title column as pandas series\n",
    "title = pd.Series(df.title)\n",
    "print(title)"
   ]
  },
  {
   "cell_type": "code",
   "execution_count": 58,
   "metadata": {},
   "outputs": [
    {
     "data": {
      "text/plain": [
       "(20099, 7)"
      ]
     },
     "execution_count": 58,
     "metadata": {},
     "output_type": "execute_result"
    }
   ],
   "source": [
    "#5. Count the number of rows and columns\n",
    "df.shape"
   ]
  },
  {
   "cell_type": "code",
   "execution_count": 60,
   "metadata": {},
   "outputs": [
    {
     "name": "stdout",
     "output_type": "stream",
     "text": [
      "['IronPython 3 (python for .net) development restarted', 'Learn data science in python by taking online course', 'Show HN: Dplython, dplyr data manipulation for python', 'Kickstarter for funding Micropython port to ESP8266', 'DQN for Beginners in 200 lines of python code to play Flappy Bird with Keras', 'Show HN: Venv2docker  create a docker image from a python virtualenv', 'EasyMake  one python file instead tons of Makefile locs', 'let in python (2014)', 'Ptpython  better than ipython or bpython?', 'Show HN: Stack overflow command line client added support to python 2', 'The origins of the class Meta idiom in python', 'Crypto and SSL toolkit for python (M2Crypto)']\n"
     ]
    }
   ],
   "source": [
    "# - Filter the titles which contain python\n",
    "import re \n",
    "def Filter(string, substr): \n",
    "    return [str for str in string if\n",
    "             any(sub in str for sub in substr)]    \n",
    "# Driver code \n",
    "string = df.title\n",
    "substr = ['python'] \n",
    "title_python = Filter(string, substr)\n",
    "print(title_python)"
   ]
  },
  {
   "cell_type": "code",
   "execution_count": 61,
   "metadata": {},
   "outputs": [
    {
     "name": "stdout",
     "output_type": "stream",
     "text": [
      "['Show HN: Hire JavaScript - Top JavaScript Talent', 'Ask HN: Are there any projects or compilers which convert JavaScript to Java?', 'If you write JavaScript tools or libraries, bundle your code before publishing', 'Rollup.js: A next-generation JavaScript module bundler', 'V8 JavaScript Engine: V8 Release 5.4', 'Proposed JavaScript Standard Style', 'Show HN: Design by Contract for JavaScript', 'Show HN: Monkberry  a JavaScript library for building web user interfaces', 'Introduction to asynchronous JavaScript', 'Ask HN: How do I learn JavaScript after using it for years', 'Performance Comparison of JavaScript Frameworks', 'A Chinese JavaScript framework that aims to challenge JQuery', \"Industry Leaders to Advance Standardization of Netscape's JavaScript (1996)\", 'Will TypeScript replace JavaScript in development?', 'Show HN: A Simple JavaScript Speech Recognizer', 'ElixirScript  Elixir to JavaScript', 'Show HN: Phoenix  a lightweight OS X window manager scriptable with JavaScript', 'Is your JavaScript function actually pure?', 'JavaScript Cancelable Promises Proposal', 'Ask HN: Any Site that teaches JavaScript the way RailsCasts.com teaches Rails?', 'List of books to master JavaScript Development', 'Ask HN: JavaScript code explainer?', 'JavaScript Promises: Plain and Simple', 'Ask HN: How to approach writing a web crawler that can handle JavaScript?', 'Wordpress Admin Fully JavaScript', 'Capture and report JavaScript errors with window.onerror', 'JavaScript Fatigue', 'Compile OCaml to JavaScript, Run on Node', 'Show HN: Expounder  A small JavaScript library for more engaging tutorials', 'Learning how to write a 3D engine from scratch in C#, TypeScript or JavaScript (2013)', 'Microsoft Preps Alternate JavaScript Engine for Node.js', 'Timbre.js: JavaScript Library for Objective Sound Programming', 'Why You Should Learn JavaScript in 2016', 'Need Help to Recall CSS in JavaScript  Dec***', 'Show HN: Bodybuilder  an elasticsearch query body builder for JavaScript', 'How JavaScript closures work under the hood', 'Gmail disabled access when JavaScript is turned off', \"A Taste of JavaScript's New Parallel Primitives\", \"Ask HN: Where's the best place or best way to learn JavaScript syntax?\", 'Drool: automated memory leak detection in JavaScript', 'Show HN: Lerna: A tool for managing large JavaScript projects', 'Ask HN: Re-learn JavaScript today, where to start?', 'A Large-Scale Study of the Use of Eval in JavaScript Applications (2011) [pdf]', 'A Simple JavaScript change to reduce your build size', 'Making Music in a Browser: Recreating Theremin with JavaScript and Web Audio API', 'The Genuine (JavaScript) Sieve of Eratosthenes', \"JavaScript isn't ever going away, is it?\", 'Show HN: JavaScript for Designers  follow along for free', 'Oracle releases new JavaScript framework', \"Microsoft Edge's JavaScript engine to go open-source\", 'Explaining the Example in The Secret Life of Objects of Eloquent JavaScript', 'Battle of JavaScript: The 4 Frameworks Leading the Pack in 2016', '21 JavaScript Answers on Quora Every Developer Must Read', 'Klipse plugin for JavaScript  JSFiddle', 'I Turned Off JavaScript for a Week', 'Tcl.js: robust, high-performance Tcl in JavaScript', 'Ask HN: How do you manage complexity in large JavaScript applications', 'Functions in JavaScript: Assess your skills', 'JSClassFinder: Detecting class-like structures in legacy JavaScript code', 'JavaScript libraries should be written in TypeScript', 'Window JavaScript alert messagebox tutorial for beginners', 'A ?-calculus interpreter in less than 200 lines of JavaScript', 'JavaScript eval: direct vs. indirect call', 'Show HN: FractalViewer: A JavaScript fractal explorer', 'Show HN: I just made my first JavaScript library', \"BrightWork's JavaScript SDK  build your back end faster\", \"A boilerplate of JavaScript things that mostly shouldn't exist\", 'Runtime.js??JavaScript library OS', 'PHP framework Laravel selects Vue.js as default JavaScript framework', 'Ask HN: Elm-like JavaScript framework?', 'JavaScript Performance Updates in Microsoft Edge and Chakra', 'Show HN: MoonQuery.js Mongo like querying of arrays in JavaScript', 'JavaScript and me', 'Show HN: A JavaScript String replace API that challenges the status quo', 'Go bridges to JavaScript and Python', 'Stop Styling React Components with JavaScript', 'CurveCP in JavaScript', 'Executing non-alphanumeric JavaScript without parentheses', 'How to learn JavaScript', 'Ask HN: Should Learn/switch to JavaScript Programming (a Java Developer)', 'Show HN: TinyRave  SoundCloud for JavaScript Music', 'Avoiding a JavaScript Monoculture', 'Ask HN: What would it take to free TypeScript from the JavaScript shackles?', 'The State of JavaScript: Front-End Frameworks  A Few Preliminary Results', 'React/JavaScript fatigue', 'The GhostWriter, a JavaScript 2D Game with Canvas', 'JavaScript has beguiled the current generation of software developers', 'Developing small JavaScript components WITHOUT frameworks', 'Y combinator real life application: recursive memoization in JavaScript', 'Show HN: Chevrotain  Fault-Tolerant JavaScript Parsing DSL', 'New JavaScript: ES7 and beyond', 'The State of JavaScript on Android in 2015 Is Poor (Jeff Atwood)', \"JavaScript's new Date() causing 90% of Alibaba's internal compatibility issues\", '7 out of 10 most influential people on GitHub writing in JavaScript', 'Good JavaScript front end libraries?', 'Fable: F# to JavaScript Transpiler', 'Comcast injects JavaScript into webpages to show copyright notices to customers', 'Js-joda  Immutable date and time library for JavaScript', '2014s JavaScript versus todays  How things were before and how they are now', 'Emulating a 6502 in JavaScript [video]', 'A cool way to use natural language in JavaScript', 'An awesome set of JavaScript snippets for VIM with support of ES2015 and Node.js', 'Promisees  JavaScript Promises Visualization', 'Cash: a cross-platform implementation of Unix shell commands in JavaScript', 'HTTP Live Streaming in JavaScript', '10 Most Recommended JavaScript Scene Articles of 2015', 'The Top 3 JavaScript Mistakes Youre Making Right Now (and How to Fix Them)', 'Show HN: Highcharts  JavaScript charts in one line', '[JavaScript] to promise or to callback? This is the problem', 'ES6 is Over-Engineering JavaScript', 'An interactive way of blogging about JavaScript', 'Show HN: Timesweet  Time tracking in pure JavaScript', 'What are the best JavaScript IDEs and editors?', 'JavaScript and Immutability -?How fast is fast enough?', 'Show HN: ScriptObservatory.org  How much malicious JavaScript goes unnoticed?', 'Show HN: Pangaea  Text preprocessing with JavaScript', 'Show HN: Klipse  code evaluator pluggable on a web page clojure/ruby/JavaScript', 'Show HN: Flasher.js  Easily Install JavaScript on ESP8266 WiFi IoT Devices', 'Ask HN: Recommendations for Expert Level JavaScript Classes', 'Samson and JavaScript', 'Furnish JavaScript - Let the classes on DOM elements generate the CSS for you', 'Type conversions from JavaScript to C++ in V8', 'Simple Programs to Learn JavaScript Design Patterns', 'SQLite compiled into JavaScript via Emscripten', 'Interaction without JavaScript: common UI elements with a CSS-only pattern', 'How to Write an Open Source JavaScript Library: 23 Free Lessons on Egghead.io', 'Show HN: First Release of Transcrypt Python3.5 to JavaScript Compiler', 'Book on JavaScript Tools: Gulp, NPM, Yeoman, Bower', 'A case in defense of ES6 generators in JavaScript', 'Creating a JavaScript object without the new keyword', 'JavaScript is immature compared to Java', 'Using Vim as a JavaScript IDE', 'Global namespaced to Common JS Modules in JavaScript with babel', 'Show HN: Easily Add a CMS to Your JavaScript App', 'Should We Limit Web Development to JavaScript?', 'Top-level await in JavaScript is a footgun', 'Show HN: Aspect-oriented mixins in JavaScript', 'I Hate JavaScript', 'Gordon  open source Flash runtime written in pure JavaScript', 'JavaScript 101  Free 5+ hour course for Beginners', 'Ask HN: Technologies to create a brand new JavaScript application?', 'Feathers 2.0  a minimalist real-time JavaScript framework', 'Pluggable.js: A tiny plugin architecture for your JavaScript project', 'Made a small JavaScript library for smooth pretty drawing/handwriting on Canvas', 'The Master JavaScript Course Has Been Released (197 Spots Remaining)', 'Show HN: JavaScript coding challenges on top of GitHub and circleci', 'Show HN: A simple, visual way of debugging JavaScript', \"The master's thesis that led to the Karma Test Runner for JavaScript\", '10 very good reasons to stop using JavaScript', 'Guidelines to choose a JavaScript library', 'Show HN: Learn to code with JavaScript (French)', 'Isomorphic JavaScript, lets make it easier', 'We found a JavaScript UI library that performs great on Android mobile web', 'Imgur.com exploit that allowed arbitrary JavaScript to be embedded', 'How can JavaScript be stopped from spreading like a cancer?', 'Famo.us pivots from JavaScript engine to micro-app CMS', 'Immutable Data Structures and JavaScript', 'Ask HN: What are examples of large websites without JavaScript?', 'Show HN: Prolog compiler and interpreter in pure JavaScript', 'Speed up JavaScript crypto', 'Ask HN: Can anyone suggest great examples of continuation passing in JavaScript?', 'Data Structures in JavaScript', 'Show HN: LilBlog  Blog Software Written in Only HTML, CSS, and JavaScript', 'The State of JavaScript on Android Is Poor', 'Fotorama, a responsive JavaScript photo gallery', 'Another Kind of JavaScript Fatigue', 'Lonely programmer detective uncovers the Mozilla JavaScript coercion conspiracy', 'Ask HN: Best Practices for CSS in a Modern JavaScript App', 'Show HN: Parse recipe ingredients using JavaScript']\n"
     ]
    }
   ],
   "source": [
    "# - Filter the titles which contain JavaScript\n",
    "substr1 = ['JavaScript'] \n",
    "title_jscript = Filter(string, substr1)\n",
    "print(title_jscript)"
   ]
  },
  {
   "cell_type": "code",
   "execution_count": null,
   "metadata": {},
   "outputs": [],
   "source": [
    "#  - Explore the data and make sense of it"
   ]
  }
 ],
 "metadata": {
  "kernelspec": {
   "display_name": "Python 3",
   "language": "python",
   "name": "python3"
  },
  "language_info": {
   "codemirror_mode": {
    "name": "ipython",
    "version": 3
   },
   "file_extension": ".py",
   "mimetype": "text/x-python",
   "name": "python",
   "nbconvert_exporter": "python",
   "pygments_lexer": "ipython3",
   "version": "3.8.5"
  }
 },
 "nbformat": 4,
 "nbformat_minor": 4
}
